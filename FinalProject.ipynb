{
 "metadata": {
  "name": ""
 },
 "nbformat": 3,
 "nbformat_minor": 0,
 "worksheets": [
  {
   "cells": [
    {
     "cell_type": "code",
     "collapsed": false,
     "input": [
      "from __future__ import division\n",
      "from ebooklib import epub\n",
      "from bs4 import BeautifulSoup\n",
      "from wordcloud import WordCloud\n",
      "import matplotlib.pyplot as plt\n",
      "from wordcloud import WordCloud,ImageColorGenerator\n",
      "from scipy.misc import imread\n",
      "from numpy import *\n",
      "from StringIO import StringIO\n",
      "import pylab\n",
      "import re\n",
      "import unicodedata\n",
      "import string\n",
      "from ggplot import *\n",
      "from pandas import DataFrame\n",
      "book = epub.read_epub('/home/geekypete/Documents/king.epub')\n",
      "chapters = list()\n",
      "text=''\n",
      "\n",
      "for item in book.items:\n",
      "    if isinstance(item, epub.EpubHtml):\n",
      "        text+= (BeautifulSoup(item.content)).get_text().encode('unicode_escape').decode('unicode_escape').encode('ascii','ignore')\n",
      "        if len((BeautifulSoup(item.content)).get_text())>650:\n",
      "            chapters.append(((BeautifulSoup(item.content)).get_text()).encode('unicode_escape').decode('unicode_escape').encode('ascii','ignore'))\n",
      "#text = re.sub((ur'[\\u2019]+'), ur'\\u0027', text)\n",
      "text = re.sub((ur'[\\u201D]+'), ur'\\u0022', text)\n",
      "text = re.sub((ur'[\\u201C]+'), ur'\\u0022', text)\n",
      "def count(rawtext,words_to_ignore):\n",
      "    things_to_strip = [\".\",\",\",\"?\",\")\",\"(\",\"\\\"\",\":\",\";\",\"'s\",\"!\",\"\\\"\"]\n",
      "    words_min_size = 2 #temp changed to 2 to include 'WIT'\n",
      "    ignore = []\n",
      "    print_in_html = True\n",
      "     \n",
      "    words = rawtext.lower().split()\n",
      "    wordcount = {}\n",
      "    for word in words:\n",
      "        for thing in things_to_strip:\n",
      "            if thing in word:\n",
      "                word = word.replace(thing,\"\")\n",
      "        if word not in words_to_ignore and len(word) >= words_min_size:\n",
      "            if word in wordcount:\n",
      "                wordcount[word] += 1\n",
      "            else:\n",
      "                wordcount[word] = 1\n",
      "            \n",
      "    #sortedbyfrequency =  sorted(wordcount,key=wordcount.get,reverse=True)\n",
      "    #return sorted(wordcount,key=lambda x: x[1])\n",
      "    finalcount= list()\n",
      "    for thing in wordcount:\n",
      "        finalcount.append((thing,wordcount[thing]))\n",
      "    #return sorted(finalcount, key=getKey, reverse=True) //temp removed \n",
      "    return wordcount\n",
      "\n",
      "def getKey(item):\n",
      "    return item[1]        "
     ],
     "language": "python",
     "metadata": {},
     "outputs": [],
     "prompt_number": 7
    },
    {
     "cell_type": "code",
     "collapsed": false,
     "input": [
      "#maskim = imread(\"/home/geekypete/Downloads/frodo.png\")\n",
      "king = imread('/home/geekypete/Documents/wayofkings.jpg')\n",
      "wordcloud = WordCloud(background_color=\"white\",width=1000,height=400,max_font_size=100, max_words=5000, mask=radiance).fit_words(count(text,ignore))\n",
      "# Open a plot of the generated image.\n",
      "image_colors = ImageColorGenerator(king)\n",
      "r = plt.imshow(wordcloud.recolor(color_func=image_colors))\n",
      "plt.axis(\"off\")\n",
      "#plt.show()\n",
      "plt.savefig(\"test.png\",bbox_inches='tight',pad_inches=0,dpi=300)"
     ],
     "language": "python",
     "metadata": {},
     "outputs": [],
     "prompt_number": 130
    },
    {
     "cell_type": "code",
     "collapsed": false,
     "input": [
      "content = re.sub((ur'[\\xc2]+'), '', content)\n",
      "str1 = ''.join(content)\n",
      "wordsstring = str1.lower().split()\n",
      "ignore = []\n",
      "with open('/home/geekypete/Documents/words.txt') as f:\n",
      "    content = f.readlines()\n",
      "for item in content:\n",
      "    ignore.append((item.replace('\\xc2\\xa0\\xc2\\xa0\\xc2\\xa0', '')).strip())"
     ],
     "language": "python",
     "metadata": {},
     "outputs": [
      {
       "ename": "NameError",
       "evalue": "name 're' is not defined",
       "output_type": "pyerr",
       "traceback": [
        "\u001b[0;31m---------------------------------------------------------------------------\u001b[0m\n\u001b[0;31mNameError\u001b[0m                                 Traceback (most recent call last)",
        "\u001b[0;32m<ipython-input-1-f8909218e4ce>\u001b[0m in \u001b[0;36m<module>\u001b[0;34m()\u001b[0m\n\u001b[0;32m----> 1\u001b[0;31m \u001b[0mcontent\u001b[0m \u001b[0;34m=\u001b[0m \u001b[0mre\u001b[0m\u001b[0;34m.\u001b[0m\u001b[0msub\u001b[0m\u001b[0;34m(\u001b[0m\u001b[0;34m(\u001b[0m\u001b[0;34mur'[\\xc2]+'\u001b[0m\u001b[0;34m)\u001b[0m\u001b[0;34m,\u001b[0m \u001b[0;34m''\u001b[0m\u001b[0;34m,\u001b[0m \u001b[0mcontent\u001b[0m\u001b[0;34m)\u001b[0m\u001b[0;34m\u001b[0m\u001b[0m\n\u001b[0m\u001b[1;32m      2\u001b[0m \u001b[0mstr1\u001b[0m \u001b[0;34m=\u001b[0m \u001b[0;34m''\u001b[0m\u001b[0;34m.\u001b[0m\u001b[0mjoin\u001b[0m\u001b[0;34m(\u001b[0m\u001b[0mcontent\u001b[0m\u001b[0;34m)\u001b[0m\u001b[0;34m\u001b[0m\u001b[0m\n\u001b[1;32m      3\u001b[0m \u001b[0mwordsstring\u001b[0m \u001b[0;34m=\u001b[0m \u001b[0mstr1\u001b[0m\u001b[0;34m.\u001b[0m\u001b[0mlower\u001b[0m\u001b[0;34m(\u001b[0m\u001b[0;34m)\u001b[0m\u001b[0;34m.\u001b[0m\u001b[0msplit\u001b[0m\u001b[0;34m(\u001b[0m\u001b[0;34m)\u001b[0m\u001b[0;34m\u001b[0m\u001b[0m\n",
        "\u001b[0;31mNameError\u001b[0m: name 're' is not defined"
       ]
      }
     ],
     "prompt_number": 1
    },
    {
     "cell_type": "code",
     "collapsed": false,
     "input": [
      "xaxis=[]\n",
      "for idx in range(len(chapters)):\n",
      "    xaxis.append(idx)\n",
      "characters = ['dalinar','elhokar','hoid','jasnah','kaladin','navani','shallan','szeth','adolin','amaram','davar','kholin','gavilar','gaz','helaran','wit','kalak','axies','baxil','cenn','geranid','ishikk','balat','rysn','lirin']\n",
      "chapters=chapters[2:89] #Remove title and author notes pages\n",
      "Matrix = [[0 for x in range(len(characters))] for x in range(len(chapters))] \n",
      "sum=0\n",
      "charsum=[]\n",
      "ignore =[]\n",
      "for idx,chap in enumerate(chapters):    \n",
      "    for idy,char in enumerate(characters):\n",
      "        try:\n",
      "            Matrix[idx][idy] = count(chap,ignore)[char]\n",
      "            sum+=Matrix[idx][idy]\n",
      "        except KeyError:\n",
      "            pass\n",
      "        if char is 'kaladin':\n",
      "            try:\n",
      "                Matrix[idx][idy]+=count(chap,ignore)[char]\n",
      "                sum+=Matrix[idx][idy]\n",
      "            except KeyError:\n",
      "                pass\n",
      "    charsum.append(sum)\n",
      "    sum =0\n",
      "for idx,row in enumerate(Matrix):\n",
      "    for idy,val in enumerate(row):\n",
      "        Matrix[idx][idy]=Matrix[idx][idy]/charsum[idx]"
     ],
     "language": "python",
     "metadata": {},
     "outputs": [],
     "prompt_number": 14
    },
    {
     "cell_type": "code",
     "collapsed": false,
     "input": [
      "DataTable = Matrix\n",
      "DataTable.insert(0,characters)\n",
      "for idx,item in enumerate(DataTable):\n",
      "    if idx==0:\n",
      "        item.insert(0,'Chapter')\n",
      "    else:\n",
      "        item.insert(0,idx)\n",
      "DataTable"
     ],
     "language": "python",
     "metadata": {},
     "outputs": [],
     "prompt_number": 17
    },
    {
     "cell_type": "code",
     "collapsed": false,
     "input": [],
     "language": "python",
     "metadata": {},
     "outputs": []
    }
   ],
   "metadata": {}
  }
 ]
}